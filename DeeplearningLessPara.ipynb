{
  "nbformat": 4,
  "nbformat_minor": 0,
  "metadata": {
    "colab": {
      "provenance": [],
      "gpuType": "T4"
    },
    "kernelspec": {
      "name": "python3",
      "display_name": "Python 3"
    },
    "language_info": {
      "name": "python"
    },
    "accelerator": "GPU"
  },
  "cells": [
    {
      "cell_type": "code",
      "execution_count": 2,
      "metadata": {
        "id": "6_wmLQsRdUOy"
      },
      "outputs": [],
      "source": [
        "\n",
        "import torch\n",
        "import torch.nn as nn\n",
        "import torch.optim as optim\n",
        "import torchvision\n",
        "import torchvision.transforms as transforms\n",
        "from torch.utils.data import DataLoader\n",
        "from torchvision.datasets import CIFAR10\n",
        "from torchsummary import summary\n",
        "import matplotlib.pyplot as plt\n",
        "import pickle\n",
        "import pandas as pd"
      ]
    },
    {
      "cell_type": "code",
      "source": [
        "\n",
        "device = torch.device(\"cuda\" if torch.cuda.is_available() else \"cpu\")\n",
        "print(f\"Using device: {device}\")\n",
        ""
      ],
      "metadata": {
        "colab": {
          "base_uri": "https://localhost:8080/"
        },
        "id": "VWiVvFrXdfr1",
        "outputId": "b1794a27-2185-40fc-a575-5549e52c9e9e"
      },
      "execution_count": 3,
      "outputs": [
        {
          "output_type": "stream",
          "name": "stdout",
          "text": [
            "Using device: cuda\n"
          ]
        }
      ]
    },
    {
      "cell_type": "code",
      "source": [
        "transform_train = transforms.Compose([\n",
        "    transforms.RandomCrop(32, padding=4),\n",
        "    transforms.RandomHorizontalFlip(),\n",
        "    transforms.ColorJitter(brightness=0.3, contrast=0.3, saturation=0.3, hue=0.1),\n",
        "    transforms.RandomRotation(degrees=20),\n",
        "    transforms.RandomAffine(degrees=0, translate=(0.1, 0.1)),\n",
        "    transforms.ToTensor(),\n",
        "    transforms.Normalize((0.4914, 0.4822, 0.4465), (0.2023, 0.1994, 0.2010)),\n",
        "])\n",
        "\n",
        "transform_test = transforms.Compose([\n",
        "    transforms.ToTensor(),\n",
        "    transforms.Normalize((0.4914, 0.4822, 0.4465), (0.2023, 0.1994, 0.2010)),\n",
        "])"
      ],
      "metadata": {
        "id": "6mY2cdEFdkag"
      },
      "execution_count": 4,
      "outputs": []
    },
    {
      "cell_type": "code",
      "source": [
        "trainset = CIFAR10(root='./data', train=True, download=True, transform=transform_train)\n",
        "trainloader = DataLoader(trainset, batch_size=128, shuffle=True, num_workers=2)\n",
        "\n",
        "testset = CIFAR10(root='./data', train=False, download=True, transform=transform_test)\n",
        "testloader = DataLoader(testset, batch_size=100, shuffle=False, num_workers=2)"
      ],
      "metadata": {
        "colab": {
          "base_uri": "https://localhost:8080/"
        },
        "id": "qN-y-Rpsdwyg",
        "outputId": "a9a0cab1-7969-45d4-f7ea-45b669612f1c"
      },
      "execution_count": 5,
      "outputs": [
        {
          "output_type": "stream",
          "name": "stdout",
          "text": [
            "Files already downloaded and verified\n",
            "Files already downloaded and verified\n"
          ]
        }
      ]
    },
    {
      "cell_type": "code",
      "source": [
        "class BasicBlock(nn.Module):\n",
        "    expansion = 1\n",
        "\n",
        "    def __init__(self, in_planes, planes, stride=1):\n",
        "        super(BasicBlock, self).__init__()\n",
        "        self.conv1 = nn.Conv2d(in_planes, planes, kernel_size=3, stride=stride, padding=1, bias=False)\n",
        "        self.bn1 = nn.BatchNorm2d(planes)\n",
        "        self.conv2 = nn.Conv2d(planes, planes, kernel_size=3, stride=1, padding=1, bias=False)\n",
        "        self.bn2 = nn.BatchNorm2d(planes)\n",
        "        self.shortcut = nn.Sequential()\n",
        "        if stride != 1 or in_planes != self.expansion*planes:\n",
        "            self.shortcut = nn.Sequential(\n",
        "                nn.Conv2d(in_planes, self.expansion*planes, kernel_size=1, stride=stride, bias=False),\n",
        "                nn.BatchNorm2d(self.expansion*planes)\n",
        "            )\n",
        "\n",
        "    def forward(self, x):\n",
        "        out = torch.relu(self.bn1(self.conv1(x)))\n",
        "        out = self.bn2(self.conv2(out))\n",
        "        out += self.shortcut(x)\n",
        "        out = torch.relu(out)\n",
        "        return out\n",
        ""
      ],
      "metadata": {
        "id": "sR1tNLT3d0KN"
      },
      "execution_count": 6,
      "outputs": []
    },
    {
      "cell_type": "code",
      "source": [
        "class ModifiedResNet(nn.Module):\n",
        "    def __init__(self, block, num_blocks, num_classes=10):\n",
        "        super(ModifiedResNet, self).__init__()\n",
        "        self.in_planes = 64  # Increased number of initial channels\n",
        "\n",
        "        self.conv1 = nn.Conv2d(3, 64, kernel_size=3, stride=1, padding=1, bias=False)  # Increased initial channels\n",
        "        self.bn1 = nn.BatchNorm2d(64)\n",
        "        self.layer1 = self._make_layer(block, 64, num_blocks[0], stride=1)\n",
        "        self.layer2 = self._make_layer(block, 128, num_blocks[1], stride=2)  # Increased channels\n",
        "        self.layer3 = self._make_layer(block, 256, num_blocks[2], stride=2)  # Increased channels\n",
        "        self.linear = nn.Linear(256*block.expansion, num_classes)\n",
        "\n",
        "    def _make_layer(self, block, planes, num_blocks, stride):\n",
        "        strides = [stride] + [1]*(num_blocks-1)\n",
        "        layers = []\n",
        "        for stride in strides:\n",
        "            layers.append(block(self.in_planes, planes, stride))\n",
        "            self.in_planes = planes * block.expansion\n",
        "        return nn.Sequential(*layers)\n",
        "\n",
        "    def forward(self, x):\n",
        "        out = torch.relu(self.bn1(self.conv1(x)))\n",
        "        out = self.layer1(out)\n",
        "        out = self.layer2(out)\n",
        "        out = self.layer3(out)\n",
        "        out = nn.functional.avg_pool2d(out, 8)\n",
        "        out = out.view(out.size(0), -1)\n",
        "        out = self.linear(out)\n",
        "        return out\n",
        ""
      ],
      "metadata": {
        "id": "m3l6Fj3-d4Dx"
      },
      "execution_count": 7,
      "outputs": []
    },
    {
      "cell_type": "code",
      "source": [
        "def ResNetModel():\n",
        "    return ModifiedResNet(ResidualBlock, [2,2,2])\n",
        "\n",
        "def count_parameters(model):\n",
        "    return sum(p.numel() for p in model.parameters() if p.requires_grad)"
      ],
      "metadata": {
        "id": "dBnCfyq1d6mY"
      },
      "execution_count": 8,
      "outputs": []
    },
    {
      "cell_type": "code",
      "source": [
        "def train_model(model, criterion, optimizer, scheduler, num_epochs=10):\n",
        "    train_losses = []\n",
        "    test_losses = []\n",
        "    train_accs = []\n",
        "    test_accs = []\n",
        "\n",
        "    model.to(device)\n",
        "\n",
        "    for epoch in range(num_epochs):\n",
        "        model.train()\n",
        "        running_loss = 0.0\n",
        "        correct = 0\n",
        "        total = 0\n",
        "        for i, data in enumerate(trainloader, 0):\n",
        "            inputs, labels = data[0].to(device), data[1].to(device)\n",
        "            optimizer.zero_grad()\n",
        "\n",
        "            outputs = model(inputs)\n",
        "            loss = criterion(outputs, labels)\n",
        "            loss.backward()\n",
        "            optimizer.step()\n",
        "\n",
        "            running_loss += loss.item()\n",
        "            _, predicted = outputs.max(1)\n",
        "            total += labels.size(0)\n",
        "            correct += predicted.eq(labels).sum().item()\n",
        "\n",
        "        train_loss = running_loss / len(trainloader)\n",
        "        train_acc = correct / total\n",
        "        train_losses.append(train_loss)\n",
        "        train_accs.append(train_acc)\n",
        "\n",
        "        model.eval()\n",
        "        correct = 0\n",
        "        total = 0\n",
        "        test_loss = 0.0\n",
        "        with torch.no_grad():\n",
        "            for data in testloader:\n",
        "                inputs, labels = data[0].to(device), data[1].to(device)\n",
        "                outputs = model(inputs)\n",
        "                loss = criterion(outputs, labels)\n",
        "                test_loss += loss.item()\n",
        "                _, predicted = outputs.max(1)\n",
        "                total += labels.size(0)\n",
        "                correct += predicted.eq(labels).sum().item()\n",
        "\n",
        "        test_loss /= len(testloader)\n",
        "        test_acc = correct / total\n",
        "        test_losses.append(test_loss)\n",
        "        test_accs.append(test_acc)\n",
        "\n",
        "        print(f'Epoch [{epoch+1}/{num_epochs}], Train Loss: {train_loss:.4f}, Train Acc: {train_acc:.4f}, Test Loss: {test_loss:.4f}, Test Acc: {test_acc:.4f}')\n",
        "        scheduler.step(test_loss)\n",
        "\n",
        "    plt.figure(figsize=(10, 5))\n",
        "    plt.plot(train_losses, label='Train Loss')\n",
        "    plt.plot(test_losses, label='Test Loss')\n",
        "    plt.xlabel('Epoch')\n",
        "    plt.ylabel('Loss')\n",
        "    plt.title('Training and Testing Loss Curves')\n",
        "    plt.legend()\n",
        "    plt.show()\n",
        "\n",
        "    plt.figure(figsize=(10, 5))\n",
        "    plt.plot(train_accs, label='Train Accuracy')\n",
        "    plt.plot(test_accs, label='Test Accuracy')\n",
        "    plt.xlabel('Epoch')\n",
        "    plt.ylabel('Accuracy')\n",
        "    plt.title('Training and Testing Accuracy Curves')\n",
        "    plt.legend()\n",
        "    plt.show()\n",
        "\n",
        "    print('Final Test Accuracy: {:.4f}'.format(test_acc))"
      ],
      "metadata": {
        "id": "kfI8XK4rd-LC"
      },
      "execution_count": 9,
      "outputs": []
    },
    {
      "cell_type": "code",
      "source": [
        "model = ModifiedResNet(BasicBlock, [2, 2, 2, 2])\n",
        "model.to(device)"
      ],
      "metadata": {
        "colab": {
          "base_uri": "https://localhost:8080/"
        },
        "id": "oFdH56WUeBcH",
        "outputId": "4e514ca9-8907-4450-94d5-4a2e892f4c68"
      },
      "execution_count": 10,
      "outputs": [
        {
          "output_type": "execute_result",
          "data": {
            "text/plain": [
              "ModifiedResNet(\n",
              "  (conv1): Conv2d(3, 64, kernel_size=(3, 3), stride=(1, 1), padding=(1, 1), bias=False)\n",
              "  (bn1): BatchNorm2d(64, eps=1e-05, momentum=0.1, affine=True, track_running_stats=True)\n",
              "  (layer1): Sequential(\n",
              "    (0): BasicBlock(\n",
              "      (conv1): Conv2d(64, 64, kernel_size=(3, 3), stride=(1, 1), padding=(1, 1), bias=False)\n",
              "      (bn1): BatchNorm2d(64, eps=1e-05, momentum=0.1, affine=True, track_running_stats=True)\n",
              "      (conv2): Conv2d(64, 64, kernel_size=(3, 3), stride=(1, 1), padding=(1, 1), bias=False)\n",
              "      (bn2): BatchNorm2d(64, eps=1e-05, momentum=0.1, affine=True, track_running_stats=True)\n",
              "      (shortcut): Sequential()\n",
              "    )\n",
              "    (1): BasicBlock(\n",
              "      (conv1): Conv2d(64, 64, kernel_size=(3, 3), stride=(1, 1), padding=(1, 1), bias=False)\n",
              "      (bn1): BatchNorm2d(64, eps=1e-05, momentum=0.1, affine=True, track_running_stats=True)\n",
              "      (conv2): Conv2d(64, 64, kernel_size=(3, 3), stride=(1, 1), padding=(1, 1), bias=False)\n",
              "      (bn2): BatchNorm2d(64, eps=1e-05, momentum=0.1, affine=True, track_running_stats=True)\n",
              "      (shortcut): Sequential()\n",
              "    )\n",
              "  )\n",
              "  (layer2): Sequential(\n",
              "    (0): BasicBlock(\n",
              "      (conv1): Conv2d(64, 128, kernel_size=(3, 3), stride=(2, 2), padding=(1, 1), bias=False)\n",
              "      (bn1): BatchNorm2d(128, eps=1e-05, momentum=0.1, affine=True, track_running_stats=True)\n",
              "      (conv2): Conv2d(128, 128, kernel_size=(3, 3), stride=(1, 1), padding=(1, 1), bias=False)\n",
              "      (bn2): BatchNorm2d(128, eps=1e-05, momentum=0.1, affine=True, track_running_stats=True)\n",
              "      (shortcut): Sequential(\n",
              "        (0): Conv2d(64, 128, kernel_size=(1, 1), stride=(2, 2), bias=False)\n",
              "        (1): BatchNorm2d(128, eps=1e-05, momentum=0.1, affine=True, track_running_stats=True)\n",
              "      )\n",
              "    )\n",
              "    (1): BasicBlock(\n",
              "      (conv1): Conv2d(128, 128, kernel_size=(3, 3), stride=(1, 1), padding=(1, 1), bias=False)\n",
              "      (bn1): BatchNorm2d(128, eps=1e-05, momentum=0.1, affine=True, track_running_stats=True)\n",
              "      (conv2): Conv2d(128, 128, kernel_size=(3, 3), stride=(1, 1), padding=(1, 1), bias=False)\n",
              "      (bn2): BatchNorm2d(128, eps=1e-05, momentum=0.1, affine=True, track_running_stats=True)\n",
              "      (shortcut): Sequential()\n",
              "    )\n",
              "  )\n",
              "  (layer3): Sequential(\n",
              "    (0): BasicBlock(\n",
              "      (conv1): Conv2d(128, 256, kernel_size=(3, 3), stride=(2, 2), padding=(1, 1), bias=False)\n",
              "      (bn1): BatchNorm2d(256, eps=1e-05, momentum=0.1, affine=True, track_running_stats=True)\n",
              "      (conv2): Conv2d(256, 256, kernel_size=(3, 3), stride=(1, 1), padding=(1, 1), bias=False)\n",
              "      (bn2): BatchNorm2d(256, eps=1e-05, momentum=0.1, affine=True, track_running_stats=True)\n",
              "      (shortcut): Sequential(\n",
              "        (0): Conv2d(128, 256, kernel_size=(1, 1), stride=(2, 2), bias=False)\n",
              "        (1): BatchNorm2d(256, eps=1e-05, momentum=0.1, affine=True, track_running_stats=True)\n",
              "      )\n",
              "    )\n",
              "    (1): BasicBlock(\n",
              "      (conv1): Conv2d(256, 256, kernel_size=(3, 3), stride=(1, 1), padding=(1, 1), bias=False)\n",
              "      (bn1): BatchNorm2d(256, eps=1e-05, momentum=0.1, affine=True, track_running_stats=True)\n",
              "      (conv2): Conv2d(256, 256, kernel_size=(3, 3), stride=(1, 1), padding=(1, 1), bias=False)\n",
              "      (bn2): BatchNorm2d(256, eps=1e-05, momentum=0.1, affine=True, track_running_stats=True)\n",
              "      (shortcut): Sequential()\n",
              "    )\n",
              "  )\n",
              "  (linear): Linear(in_features=256, out_features=10, bias=True)\n",
              ")"
            ]
          },
          "metadata": {},
          "execution_count": 10
        }
      ]
    },
    {
      "cell_type": "code",
      "source": [
        "print(summary(model, (3, 32, 32)))"
      ],
      "metadata": {
        "colab": {
          "base_uri": "https://localhost:8080/"
        },
        "id": "aKbHYpvBeOWy",
        "outputId": "2e16c23e-700e-4116-d8de-50c4744d4ad2"
      },
      "execution_count": 11,
      "outputs": [
        {
          "output_type": "stream",
          "name": "stdout",
          "text": [
            "----------------------------------------------------------------\n",
            "        Layer (type)               Output Shape         Param #\n",
            "================================================================\n",
            "            Conv2d-1           [-1, 64, 32, 32]           1,728\n",
            "       BatchNorm2d-2           [-1, 64, 32, 32]             128\n",
            "            Conv2d-3           [-1, 64, 32, 32]          36,864\n",
            "       BatchNorm2d-4           [-1, 64, 32, 32]             128\n",
            "            Conv2d-5           [-1, 64, 32, 32]          36,864\n",
            "       BatchNorm2d-6           [-1, 64, 32, 32]             128\n",
            "        BasicBlock-7           [-1, 64, 32, 32]               0\n",
            "            Conv2d-8           [-1, 64, 32, 32]          36,864\n",
            "       BatchNorm2d-9           [-1, 64, 32, 32]             128\n",
            "           Conv2d-10           [-1, 64, 32, 32]          36,864\n",
            "      BatchNorm2d-11           [-1, 64, 32, 32]             128\n",
            "       BasicBlock-12           [-1, 64, 32, 32]               0\n",
            "           Conv2d-13          [-1, 128, 16, 16]          73,728\n",
            "      BatchNorm2d-14          [-1, 128, 16, 16]             256\n",
            "           Conv2d-15          [-1, 128, 16, 16]         147,456\n",
            "      BatchNorm2d-16          [-1, 128, 16, 16]             256\n",
            "           Conv2d-17          [-1, 128, 16, 16]           8,192\n",
            "      BatchNorm2d-18          [-1, 128, 16, 16]             256\n",
            "       BasicBlock-19          [-1, 128, 16, 16]               0\n",
            "           Conv2d-20          [-1, 128, 16, 16]         147,456\n",
            "      BatchNorm2d-21          [-1, 128, 16, 16]             256\n",
            "           Conv2d-22          [-1, 128, 16, 16]         147,456\n",
            "      BatchNorm2d-23          [-1, 128, 16, 16]             256\n",
            "       BasicBlock-24          [-1, 128, 16, 16]               0\n",
            "           Conv2d-25            [-1, 256, 8, 8]         294,912\n",
            "      BatchNorm2d-26            [-1, 256, 8, 8]             512\n",
            "           Conv2d-27            [-1, 256, 8, 8]         589,824\n",
            "      BatchNorm2d-28            [-1, 256, 8, 8]             512\n",
            "           Conv2d-29            [-1, 256, 8, 8]          32,768\n",
            "      BatchNorm2d-30            [-1, 256, 8, 8]             512\n",
            "       BasicBlock-31            [-1, 256, 8, 8]               0\n",
            "           Conv2d-32            [-1, 256, 8, 8]         589,824\n",
            "      BatchNorm2d-33            [-1, 256, 8, 8]             512\n",
            "           Conv2d-34            [-1, 256, 8, 8]         589,824\n",
            "      BatchNorm2d-35            [-1, 256, 8, 8]             512\n",
            "       BasicBlock-36            [-1, 256, 8, 8]               0\n",
            "           Linear-37                   [-1, 10]           2,570\n",
            "================================================================\n",
            "Total params: 2,777,674\n",
            "Trainable params: 2,777,674\n",
            "Non-trainable params: 0\n",
            "----------------------------------------------------------------\n",
            "Input size (MB): 0.01\n",
            "Forward/backward pass size (MB): 10.50\n",
            "Params size (MB): 10.60\n",
            "Estimated Total Size (MB): 21.11\n",
            "----------------------------------------------------------------\n",
            "None\n"
          ]
        }
      ]
    },
    {
      "cell_type": "code",
      "source": [
        "criterion = nn.CrossEntropyLoss()\n",
        "optimizer = optim.Adam(model.parameters(), lr=0.001, weight_decay=1e-4)\n",
        "scheduler = optim.lr_scheduler.ReduceLROnPlateau(optimizer, mode='min', factor=0.1, patience=5, verbose=True)"
      ],
      "metadata": {
        "id": "TDTV9oVV7T99"
      },
      "execution_count": 13,
      "outputs": []
    },
    {
      "cell_type": "code",
      "source": [
        "train_model(model, criterion, optimizer, scheduler, num_epochs=75)\n",
        "torch.save(model.state_dict(), 'best_model.pth')\n",
        "print('Model saved successfully!')"
      ],
      "metadata": {
        "colab": {
          "base_uri": "https://localhost:8080/",
          "height": 1000
        },
        "id": "10Kmf1qmeRnC",
        "outputId": "68a9f8f9-bcde-4893-ae68-10b723bbc8b1"
      },
      "execution_count": 11,
      "outputs": [
        {
          "output_type": "stream",
          "name": "stderr",
          "text": [
            "/usr/local/lib/python3.11/dist-packages/torch/optim/lr_scheduler.py:62: UserWarning: The verbose parameter is deprecated. Please use get_last_lr() to access the learning rate.\n",
            "  warnings.warn(\n"
          ]
        },
        {
          "output_type": "stream",
          "name": "stdout",
          "text": [
            "Epoch [1/75], Train Loss: 1.6115, Train Acc: 0.4044, Test Loss: 1.4501, Test Acc: 0.4970\n",
            "Epoch [2/75], Train Loss: 1.1814, Train Acc: 0.5749, Test Loss: 1.0943, Test Acc: 0.6210\n",
            "Epoch [3/75], Train Loss: 1.0049, Train Acc: 0.6435, Test Loss: 1.1077, Test Acc: 0.6551\n",
            "Epoch [4/75], Train Loss: 0.8746, Train Acc: 0.6926, Test Loss: 0.8173, Test Acc: 0.7175\n",
            "Epoch [5/75], Train Loss: 0.7835, Train Acc: 0.7250, Test Loss: 0.7313, Test Acc: 0.7506\n",
            "Epoch [6/75], Train Loss: 0.7294, Train Acc: 0.7470, Test Loss: 0.7079, Test Acc: 0.7643\n",
            "Epoch [7/75], Train Loss: 0.6684, Train Acc: 0.7675, Test Loss: 0.7579, Test Acc: 0.7451\n",
            "Epoch [8/75], Train Loss: 0.6351, Train Acc: 0.7795, Test Loss: 0.6346, Test Acc: 0.7824\n",
            "Epoch [9/75], Train Loss: 0.6036, Train Acc: 0.7894, Test Loss: 0.6627, Test Acc: 0.7842\n",
            "Epoch [10/75], Train Loss: 0.5713, Train Acc: 0.8033, Test Loss: 0.6140, Test Acc: 0.8002\n",
            "Epoch [11/75], Train Loss: 0.5514, Train Acc: 0.8097, Test Loss: 0.4956, Test Acc: 0.8297\n",
            "Epoch [12/75], Train Loss: 0.5323, Train Acc: 0.8153, Test Loss: 0.6622, Test Acc: 0.7897\n",
            "Epoch [13/75], Train Loss: 0.5136, Train Acc: 0.8218, Test Loss: 0.5030, Test Acc: 0.8330\n",
            "Epoch [14/75], Train Loss: 0.4998, Train Acc: 0.8287, Test Loss: 0.4933, Test Acc: 0.8385\n",
            "Epoch [15/75], Train Loss: 0.4822, Train Acc: 0.8348, Test Loss: 0.5086, Test Acc: 0.8331\n",
            "Epoch [16/75], Train Loss: 0.4698, Train Acc: 0.8371, Test Loss: 0.5134, Test Acc: 0.8232\n",
            "Epoch [17/75], Train Loss: 0.4636, Train Acc: 0.8380, Test Loss: 0.4479, Test Acc: 0.8467\n",
            "Epoch [18/75], Train Loss: 0.4512, Train Acc: 0.8433, Test Loss: 0.4371, Test Acc: 0.8537\n",
            "Epoch [19/75], Train Loss: 0.4391, Train Acc: 0.8473, Test Loss: 0.4590, Test Acc: 0.8470\n",
            "Epoch [20/75], Train Loss: 0.4225, Train Acc: 0.8530, Test Loss: 0.4093, Test Acc: 0.8652\n",
            "Epoch [21/75], Train Loss: 0.4119, Train Acc: 0.8566, Test Loss: 0.4133, Test Acc: 0.8621\n",
            "Epoch [22/75], Train Loss: 0.4111, Train Acc: 0.8573, Test Loss: 0.4032, Test Acc: 0.8669\n",
            "Epoch [23/75], Train Loss: 0.3969, Train Acc: 0.8617, Test Loss: 0.4597, Test Acc: 0.8547\n",
            "Epoch [24/75], Train Loss: 0.3922, Train Acc: 0.8640, Test Loss: 0.3848, Test Acc: 0.8730\n",
            "Epoch [25/75], Train Loss: 0.3851, Train Acc: 0.8668, Test Loss: 0.3555, Test Acc: 0.8797\n",
            "Epoch [26/75], Train Loss: 0.3812, Train Acc: 0.8664, Test Loss: 0.3700, Test Acc: 0.8771\n",
            "Epoch [27/75], Train Loss: 0.3735, Train Acc: 0.8702, Test Loss: 0.3392, Test Acc: 0.8888\n",
            "Epoch [28/75], Train Loss: 0.3637, Train Acc: 0.8735, Test Loss: 0.3789, Test Acc: 0.8720\n",
            "Epoch [29/75], Train Loss: 0.3587, Train Acc: 0.8745, Test Loss: 0.3583, Test Acc: 0.8842\n",
            "Epoch [30/75], Train Loss: 0.3558, Train Acc: 0.8761, Test Loss: 0.4268, Test Acc: 0.8663\n",
            "Epoch [31/75], Train Loss: 0.3473, Train Acc: 0.8789, Test Loss: 0.5230, Test Acc: 0.8447\n",
            "Epoch [32/75], Train Loss: 0.3455, Train Acc: 0.8806, Test Loss: 0.3920, Test Acc: 0.8743\n",
            "Epoch [33/75], Train Loss: 0.3426, Train Acc: 0.8808, Test Loss: 0.4208, Test Acc: 0.8725\n",
            "Epoch [34/75], Train Loss: 0.2564, Train Acc: 0.9115, Test Loss: 0.2514, Test Acc: 0.9161\n",
            "Epoch [35/75], Train Loss: 0.2251, Train Acc: 0.9231, Test Loss: 0.2436, Test Acc: 0.9200\n",
            "Epoch [36/75], Train Loss: 0.2127, Train Acc: 0.9266, Test Loss: 0.2439, Test Acc: 0.9202\n",
            "Epoch [37/75], Train Loss: 0.2008, Train Acc: 0.9317, Test Loss: 0.2427, Test Acc: 0.9210\n",
            "Epoch [38/75], Train Loss: 0.1954, Train Acc: 0.9331, Test Loss: 0.2440, Test Acc: 0.9226\n",
            "Epoch [39/75], Train Loss: 0.1899, Train Acc: 0.9337, Test Loss: 0.2364, Test Acc: 0.9237\n",
            "Epoch [40/75], Train Loss: 0.1793, Train Acc: 0.9377, Test Loss: 0.2418, Test Acc: 0.9243\n",
            "Epoch [41/75], Train Loss: 0.1808, Train Acc: 0.9366, Test Loss: 0.2405, Test Acc: 0.9273\n",
            "Epoch [42/75], Train Loss: 0.1736, Train Acc: 0.9398, Test Loss: 0.2378, Test Acc: 0.9246\n",
            "Epoch [43/75], Train Loss: 0.1698, Train Acc: 0.9404, Test Loss: 0.2420, Test Acc: 0.9239\n",
            "Epoch [44/75], Train Loss: 0.1630, Train Acc: 0.9419, Test Loss: 0.2381, Test Acc: 0.9284\n",
            "Epoch [45/75], Train Loss: 0.1618, Train Acc: 0.9429, Test Loss: 0.2415, Test Acc: 0.9278\n",
            "Epoch [46/75], Train Loss: 0.1531, Train Acc: 0.9465, Test Loss: 0.2346, Test Acc: 0.9307\n",
            "Epoch [47/75], Train Loss: 0.1505, Train Acc: 0.9477, Test Loss: 0.2342, Test Acc: 0.9308\n",
            "Epoch [48/75], Train Loss: 0.1472, Train Acc: 0.9489, Test Loss: 0.2362, Test Acc: 0.9296\n",
            "Epoch [49/75], Train Loss: 0.1480, Train Acc: 0.9482, Test Loss: 0.2347, Test Acc: 0.9313\n",
            "Epoch [50/75], Train Loss: 0.1484, Train Acc: 0.9484, Test Loss: 0.2331, Test Acc: 0.9318\n",
            "Epoch [51/75], Train Loss: 0.1485, Train Acc: 0.9482, Test Loss: 0.2351, Test Acc: 0.9303\n",
            "Epoch [52/75], Train Loss: 0.1465, Train Acc: 0.9489, Test Loss: 0.2354, Test Acc: 0.9291\n",
            "Epoch [53/75], Train Loss: 0.1453, Train Acc: 0.9494, Test Loss: 0.2322, Test Acc: 0.9311\n",
            "Epoch [54/75], Train Loss: 0.1445, Train Acc: 0.9502, Test Loss: 0.2346, Test Acc: 0.9299\n",
            "Epoch [55/75], Train Loss: 0.1402, Train Acc: 0.9513, Test Loss: 0.2334, Test Acc: 0.9307\n",
            "Epoch [56/75], Train Loss: 0.1412, Train Acc: 0.9509, Test Loss: 0.2342, Test Acc: 0.9302\n",
            "Epoch [57/75], Train Loss: 0.1433, Train Acc: 0.9500, Test Loss: 0.2322, Test Acc: 0.9317\n",
            "Epoch [58/75], Train Loss: 0.1402, Train Acc: 0.9509, Test Loss: 0.2317, Test Acc: 0.9319\n",
            "Epoch [59/75], Train Loss: 0.1384, Train Acc: 0.9522, Test Loss: 0.2361, Test Acc: 0.9296\n",
            "Epoch [60/75], Train Loss: 0.1402, Train Acc: 0.9511, Test Loss: 0.2341, Test Acc: 0.9299\n",
            "Epoch [61/75], Train Loss: 0.1401, Train Acc: 0.9507, Test Loss: 0.2331, Test Acc: 0.9303\n",
            "Epoch [62/75], Train Loss: 0.1371, Train Acc: 0.9522, Test Loss: 0.2324, Test Acc: 0.9317\n",
            "Epoch [63/75], Train Loss: 0.1376, Train Acc: 0.9517, Test Loss: 0.2327, Test Acc: 0.9310\n",
            "Epoch [64/75], Train Loss: 0.1369, Train Acc: 0.9529, Test Loss: 0.2329, Test Acc: 0.9310\n",
            "Epoch [65/75], Train Loss: 0.1369, Train Acc: 0.9527, Test Loss: 0.2309, Test Acc: 0.9323\n",
            "Epoch [66/75], Train Loss: 0.1371, Train Acc: 0.9526, Test Loss: 0.2308, Test Acc: 0.9311\n",
            "Epoch [67/75], Train Loss: 0.1354, Train Acc: 0.9527, Test Loss: 0.2306, Test Acc: 0.9318\n",
            "Epoch [68/75], Train Loss: 0.1354, Train Acc: 0.9521, Test Loss: 0.2315, Test Acc: 0.9309\n",
            "Epoch [69/75], Train Loss: 0.1368, Train Acc: 0.9525, Test Loss: 0.2325, Test Acc: 0.9302\n",
            "Epoch [70/75], Train Loss: 0.1342, Train Acc: 0.9532, Test Loss: 0.2323, Test Acc: 0.9306\n",
            "Epoch [71/75], Train Loss: 0.1359, Train Acc: 0.9533, Test Loss: 0.2347, Test Acc: 0.9303\n",
            "Epoch [72/75], Train Loss: 0.1332, Train Acc: 0.9538, Test Loss: 0.2327, Test Acc: 0.9314\n",
            "Epoch [73/75], Train Loss: 0.1341, Train Acc: 0.9529, Test Loss: 0.2343, Test Acc: 0.9305\n",
            "Epoch [74/75], Train Loss: 0.1359, Train Acc: 0.9539, Test Loss: 0.2334, Test Acc: 0.9314\n",
            "Epoch [75/75], Train Loss: 0.1385, Train Acc: 0.9524, Test Loss: 0.2318, Test Acc: 0.9311\n"
          ]
        },
        {
          "output_type": "display_data",
          "data": {
            "text/plain": [
              "<Figure size 1000x500 with 1 Axes>"
            ],
            "image/png": "[encoded data removed]"
          },
          "metadata": {}
        },
        {
          "output_type": "display_data",
          "data": {
            "text/plain": [
              "<Figure size 1000x500 with 1 Axes>"
            ],
            "image/png": "[encoded data removed]"
          },
          "metadata": {}
        },
        {
          "output_type": "stream",
          "name": "stdout",
          "text": [
            "Final Test Accuracy: 0.9311\n",
            "Model saved successfully!\n"
          ]
        }
      ]
    },
    {
      "cell_type": "code",
      "source": [
        "def evaluate_model(model, dataloader):\n",
        "    model.eval()\n",
        "    correct = 0\n",
        "    total = 0\n",
        "    with torch.no_grad():\n",
        "        for data in dataloader:\n",
        "            inputs, labels = data[0].to(device), data[1].to(device)\n",
        "            outputs = model(inputs)\n",
        "            _, predicted = torch.max(outputs, 1)\n",
        "            total += labels.size(0)\n",
        "            correct += (predicted == labels).sum().item()\n",
        "    accuracy = correct / total\n",
        "    print(f'Accuracy on the dataset: {100 * accuracy:.2f}%')\n",
        "\n",
        "evaluate_model(model, testloader)"
      ],
      "metadata": {
        "colab": {
          "base_uri": "https://localhost:8080/"
        },
        "id": "tVxz8ySugCKh",
        "outputId": "c6e5e3c7-902e-434b-8cf0-fa92bd091e08"
      },
      "execution_count": 12,
      "outputs": [
        {
          "output_type": "stream",
          "name": "stdout",
          "text": [
            "Accuracy on the dataset: 93.11%\n"
          ]
        }
      ]
    },
    {
      "cell_type": "code",
      "source": [
        "import torch\n",
        "from torch.utils.data import DataLoader, TensorDataset\n",
        "import pandas as pd\n",
        "import pickle\n",
        "from torchvision import transforms\n",
        "\n",
        "# Define transformation\n",
        "transform = transforms.Compose([\n",
        "    transforms.ToTensor(),\n",
        "    transforms.Normalize((0.4914, 0.4822, 0.4465), (0.2023, 0.1994, 0.2010))\n",
        "])\n",
        "\n",
        "# Load test images and IDs\n",
        "with open(\"/content/cifar_test_nolabel.pkl\", \"rb\") as f:\n",
        "    test_data = pickle.load(f)  # Assumes a dictionary format {'id': [], 'images': []}\n",
        "\n",
        "image_ids = test_data[b'ids']\n",
        "images = test_data[b'data']  # Shape: (N, H, W, C)\n",
        "\n",
        "# Convert images to tensors and preprocess\n",
        "images = torch.stack([transform(image) for image in images])  # Shape: (N, C, H, W)\n",
        "\n",
        "# Create DataLoader for batch processing\n",
        "batch_size = 64\n",
        "dataset = TensorDataset(images)\n",
        "data_loader = DataLoader(dataset, batch_size=batch_size, shuffle=False)\n",
        "\n",
        "# Set device for model and data (use GPU if available)\n",
        "device = torch.device(\"cuda\" if torch.cuda.is_available() else \"cpu\")\n",
        "\n",
        "# Load the trained ResNet model\n",
        "model = ModifiedResNet(BasicBlock, [2, 2, 2, 2])\n",
        "model.load_state_dict(torch.load(\"best_model.pth\", map_location=device))\n",
        "model.to(device)  # Move model to the correct device\n",
        "model.eval()  # Set model to evaluation mode\n",
        "\n",
        "# Prepare a list to hold the predictions\n",
        "all_predictions = []\n",
        "\n",
        "# Run inference in batches\n",
        "with torch.no_grad():\n",
        "    for images_batch in data_loader:\n",
        "        images_batch = images_batch[0].to(device)  # Move images to the correct device\n",
        "        outputs = model(images_batch)  # Forward pass\n",
        "        _, predicted_labels = torch.max(outputs, 1)  # Get predicted class\n",
        "        all_predictions.extend(predicted_labels.cpu().numpy())  # Move labels back to CPU and store predictions\n",
        "\n",
        "# Save results to CSV\n",
        "df = pd.DataFrame({\"ID\": image_ids, \"Labels\": all_predictions})\n",
        "df.to_csv(\"predictions.csv\", index=False)\n",
        "\n",
        "print(\"Predictions saved to predictions.csv\")\n"
      ],
      "metadata": {
        "colab": {
          "base_uri": "https://localhost:8080/"
        },
        "id": "Lx_Fp0fDqvgH",
        "outputId": "05401e51-b8fb-433a-8553-df73b6ceba32"
      },
      "execution_count": 18,
      "outputs": [
        {
          "output_type": "stream",
          "name": "stderr",
          "text": [
            "<ipython-input-18-6892f6242ca6>:33: FutureWarning: You are using `torch.load` with `weights_only=False` (the current default value), which uses the default pickle module implicitly. It is possible to construct malicious pickle data which will execute arbitrary code during unpickling (See https://github.com/pytorch/pytorch/blob/main/SECURITY.md#untrusted-models for more details). In a future release, the default value for `weights_only` will be flipped to `True`. This limits the functions that could be executed during unpickling. Arbitrary objects will no longer be allowed to be loaded via this mode unless they are explicitly allowlisted by the user via `torch.serialization.add_safe_globals`. We recommend you start setting `weights_only=True` for any use case where you don't have full control of the loaded file. Please open an issue on GitHub for any issues related to this experimental feature.\n",
            "  model.load_state_dict(torch.load(\"best_model.pth\", map_location=device))\n"
          ]
        },
        {
          "output_type": "stream",
          "name": "stdout",
          "text": [
            "Predictions saved to predictions.csv\n"
          ]
        }
      ]
    }
  ]
}