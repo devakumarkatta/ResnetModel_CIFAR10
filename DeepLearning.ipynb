{
  "nbformat": 4,
  "nbformat_minor": 0,
  "metadata": {
    "colab": {
      "provenance": [],
      "gpuType": "T4"
    },
    "kernelspec": {
      "name": "python3",
      "display_name": "Python 3"
    },
    "language_info": {
      "name": "python"
    },
    "accelerator": "GPU"
  },
  "cells": [
    {
      "cell_type": "code",
      "execution_count": null,
      "metadata": {
        "id": "6_wmLQsRdUOy"
      },
      "outputs": [],
      "source": [
        "import torch\n",
        "import torch.nn as nn\n",
        "import torch.optim as optim\n",
        "import torchvision\n",
        "import torchvision.transforms as transforms\n",
        "from torch.utils.data import DataLoader\n",
        "from torchvision.datasets import CIFAR10\n",
        "from torchsummary import summary\n",
        "import matplotlib.pyplot as plt\n",
        "import pickle\n",
        "import pandas as pd"
      ]
    },
    {
      "cell_type": "code",
      "source": [
        "device = torch.device(\"cuda\" if torch.cuda.is_available() else \"cpu\")\n",
        "print(f\"Using device: {device}\")\n"
      ],
      "metadata": {
        "colab": {
          "base_uri": "https://localhost:8080/"
        },
        "id": "VWiVvFrXdfr1",
        "outputId": "d351cf68-4395-4b52-9369-be7fb491f9a6"
      },
      "execution_count": null,
      "outputs": [
        {
          "output_type": "stream",
          "name": "stdout",
          "text": [
            "Using device: cuda\n"
          ]
        }
      ]
    },
    {
      "cell_type": "code",
      "source": [
        "transform_train = transforms.Compose([\n",
        "    transforms.RandomCrop(32, padding=4),\n",
        "    transforms.RandomHorizontalFlip(),\n",
        "    transforms.ColorJitter(brightness=0.3, contrast=0.3, saturation=0.3, hue=0.1),\n",
        "    transforms.RandomRotation(degrees=20),\n",
        "    transforms.RandomAffine(degrees=0, translate=(0.1, 0.1)),\n",
        "    transforms.ToTensor(),\n",
        "    transforms.Normalize((0.4914, 0.4822, 0.4465), (0.2023, 0.1994, 0.2010)),\n",
        "])\n",
        "\n",
        "transform_test = transforms.Compose([\n",
        "    transforms.ToTensor(),\n",
        "    transforms.Normalize((0.4914, 0.4822, 0.4465), (0.2023, 0.1994, 0.2010)),\n",
        "])"
      ],
      "metadata": {
        "id": "6mY2cdEFdkag"
      },
      "execution_count": null,
      "outputs": []
    },
    {
      "cell_type": "code",
      "source": [
        "trainset = CIFAR10(root='./data', train=True, download=True, transform=transform_train)\n",
        "trainloader = DataLoader(trainset, batch_size=128, shuffle=True, num_workers=2)\n",
        "\n",
        "testset = CIFAR10(root='./data', train=False, download=True, transform=transform_test)\n",
        "testloader = DataLoader(testset, batch_size=100, shuffle=False, num_workers=2)"
      ],
      "metadata": {
        "colab": {
          "base_uri": "https://localhost:8080/"
        },
        "id": "qN-y-Rpsdwyg",
        "outputId": "ca3ee3ce-e1b8-4101-9bd3-bf08d8a36e94"
      },
      "execution_count": null,
      "outputs": [
        {
          "output_type": "stream",
          "name": "stdout",
          "text": [
            "Downloading https://www.cs.toronto.edu/~kriz/cifar-10-python.tar.gz to ./data/cifar-10-python.tar.gz\n"
          ]
        },
        {
          "output_type": "stream",
          "name": "stderr",
          "text": [
            "100%|██████████| 170M/170M [00:04<00:00, 34.2MB/s]\n"
          ]
        },
        {
          "output_type": "stream",
          "name": "stdout",
          "text": [
            "Extracting ./data/cifar-10-python.tar.gz to ./data\n",
            "Files already downloaded and verified\n"
          ]
        }
      ]
    },
    {
      "cell_type": "code",
      "source": [
        "class BasicBlock(nn.Module):\n",
        "    expansion = 1\n",
        "\n",
        "    def __init__(self, in_planes, planes, stride=1):\n",
        "        super(BasicBlock, self).__init__()\n",
        "        self.conv1 = nn.Conv2d(in_planes, planes, kernel_size=3, stride=stride, padding=1, bias=False)\n",
        "        self.bn1 = nn.BatchNorm2d(planes)\n",
        "        self.conv2 = nn.Conv2d(planes, planes, kernel_size=3, stride=1, padding=1, bias=False)\n",
        "        self.bn2 = nn.BatchNorm2d(planes)\n",
        "        self.shortcut = nn.Sequential()\n",
        "        if stride != 1 or in_planes != self.expansion*planes:\n",
        "            self.shortcut = nn.Sequential(\n",
        "                nn.Conv2d(in_planes, self.expansion*planes, kernel_size=1, stride=stride, bias=False),\n",
        "                nn.BatchNorm2d(self.expansion*planes)\n",
        "            )\n",
        "\n",
        "    def forward(self, x):\n",
        "        out = torch.relu(self.bn1(self.conv1(x)))\n",
        "        out = self.bn2(self.conv2(out))\n",
        "        out += self.shortcut(x)\n",
        "        out = torch.relu(out)\n",
        "        return out\n"
      ],
      "metadata": {
        "id": "sR1tNLT3d0KN"
      },
      "execution_count": null,
      "outputs": []
    },
    {
      "cell_type": "code",
      "source": [
        "class ModifiedResNet(nn.Module):\n",
        "    def __init__(self, block, num_blocks, num_classes=10):\n",
        "        super(ModifiedResNet, self).__init__()\n",
        "        self.in_planes = 64  # Increased number of initial channels\n",
        "\n",
        "        self.conv1 = nn.Conv2d(3, 64, kernel_size=3, stride=1, padding=1, bias=False)  # Increased initial channels\n",
        "        self.bn1 = nn.BatchNorm2d(64)\n",
        "        self.layer1 = self._make_layer(block, 64, num_blocks[0], stride=1)\n",
        "        self.layer2 = self._make_layer(block, 128, num_blocks[1], stride=2)  # Increased channels\n",
        "        self.layer3 = self._make_layer(block, 256, num_blocks[2], stride=2)  # Increased channels\n",
        "        self.linear = nn.Linear(256*block.expansion, num_classes)\n",
        "\n",
        "    def _make_layer(self, block, planes, num_blocks, stride):\n",
        "        strides = [stride] + [1]*(num_blocks-1)\n",
        "        layers = []\n",
        "        for stride in strides:\n",
        "            layers.append(block(self.in_planes, planes, stride))\n",
        "            self.in_planes = planes * block.expansion\n",
        "        return nn.Sequential(*layers)\n",
        "\n",
        "    def forward(self, x):\n",
        "        out = torch.relu(self.bn1(self.conv1(x)))\n",
        "        out = self.layer1(out)\n",
        "        out = self.layer2(out)\n",
        "        out = self.layer3(out)\n",
        "        out = nn.functional.avg_pool2d(out, 8)\n",
        "        out = out.view(out.size(0), -1)\n",
        "        out = self.linear(out)\n",
        "        return out\n"
      ],
      "metadata": {
        "id": "m3l6Fj3-d4Dx"
      },
      "execution_count": null,
      "outputs": []
    },
    {
      "cell_type": "code",
      "source": [
        "def ResNetModel():\n",
        "    return ModifiedResNet(BasicBlock, [2,2,2])\n",
        "\n",
        "def count_parameters(model):\n",
        "    return sum(p.numel() for p in model.parameters() if p.requires_grad)"
      ],
      "metadata": {
        "id": "dBnCfyq1d6mY"
      },
      "execution_count": null,
      "outputs": []
    },
    {
      "cell_type": "code",
      "source": [
        "def train_model(model, criterion, optimizer, scheduler, num_epochs=10):\n",
        "    train_losses = []\n",
        "    test_losses = []\n",
        "    train_accs = []\n",
        "    test_accs = []\n",
        "\n",
        "    model.to(device)\n",
        "\n",
        "    for epoch in range(num_epochs):\n",
        "        model.train()\n",
        "        running_loss = 0.0\n",
        "        correct = 0\n",
        "        total = 0\n",
        "        for i, data in enumerate(trainloader, 0):\n",
        "            inputs, labels = data[0].to(device), data[1].to(device)\n",
        "            optimizer.zero_grad()\n",
        "\n",
        "            outputs = model(inputs)\n",
        "            loss = criterion(outputs, labels)\n",
        "            loss.backward()\n",
        "            optimizer.step()\n",
        "\n",
        "            running_loss += loss.item()\n",
        "            _, predicted = outputs.max(1)\n",
        "            total += labels.size(0)\n",
        "            correct += predicted.eq(labels).sum().item()\n",
        "\n",
        "        train_loss = running_loss / len(trainloader)\n",
        "        train_acc = correct / total\n",
        "        train_losses.append(train_loss)\n",
        "        train_accs.append(train_acc)\n",
        "\n",
        "        model.eval()\n",
        "        correct = 0\n",
        "        total = 0\n",
        "        test_loss = 0.0\n",
        "        with torch.no_grad():\n",
        "            for data in testloader:\n",
        "                inputs, labels = data[0].to(device), data[1].to(device)\n",
        "                outputs = model(inputs)\n",
        "                loss = criterion(outputs, labels)\n",
        "                test_loss += loss.item()\n",
        "                _, predicted = outputs.max(1)\n",
        "                total += labels.size(0)\n",
        "                correct += predicted.eq(labels).sum().item()\n",
        "\n",
        "        test_loss /= len(testloader)\n",
        "        test_acc = correct / total\n",
        "        test_losses.append(test_loss)\n",
        "        test_accs.append(test_acc)\n",
        "\n",
        "        print(f'Epoch [{epoch+1}/{num_epochs}], Train Loss: {train_loss:.4f}, Train Acc: {train_acc:.4f}, Test Loss: {test_loss:.4f}, Test Acc: {test_acc:.4f}')\n",
        "        scheduler.step(test_loss)\n",
        "\n",
        "    plt.figure(figsize=(10, 5))\n",
        "    plt.plot(train_losses, label='Train Loss')\n",
        "    plt.plot(test_losses, label='Test Loss')\n",
        "    plt.xlabel('Epoch')\n",
        "    plt.ylabel('Loss')\n",
        "    plt.title('Training and Testing Loss Curves')\n",
        "    plt.legend()\n",
        "    plt.show()\n",
        "\n",
        "    plt.figure(figsize=(10, 5))\n",
        "    plt.plot(train_accs, label='Train Accuracy')\n",
        "    plt.plot(test_accs, label='Test Accuracy')\n",
        "    plt.xlabel('Epoch')\n",
        "    plt.ylabel('Accuracy')\n",
        "    plt.title('Training and Testing Accuracy Curves')\n",
        "    plt.legend()\n",
        "    plt.show()\n",
        "\n",
        "    print('Final Test Accuracy: {:.4f}'.format(test_acc))"
      ],
      "metadata": {
        "id": "kfI8XK4rd-LC"
      },
      "execution_count": null,
      "outputs": []
    },
    {
      "cell_type": "code",
      "source": [
        "model = ModifiedResNet(BasicBlock, [4,4,3])\n",
        "model.to(device)"
      ],
      "metadata": {
        "colab": {
          "base_uri": "https://localhost:8080/"
        },
        "id": "oFdH56WUeBcH",
        "outputId": "051e17d4-8a70-409b-9c57-fdda5972e6ba"
      },
      "execution_count": null,
      "outputs": [
        {
          "output_type": "execute_result",
          "data": {
            "text/plain": [
              "ModifiedResNet(\n",
              "  (conv1): Conv2d(3, 64, kernel_size=(3, 3), stride=(1, 1), padding=(1, 1), bias=False)\n",
              "  (bn1): BatchNorm2d(64, eps=1e-05, momentum=0.1, affine=True, track_running_stats=True)\n",
              "  (layer1): Sequential(\n",
              "    (0): BasicBlock(\n",
              "      (conv1): Conv2d(64, 64, kernel_size=(3, 3), stride=(1, 1), padding=(1, 1), bias=False)\n",
              "      (bn1): BatchNorm2d(64, eps=1e-05, momentum=0.1, affine=True, track_running_stats=True)\n",
              "      (conv2): Conv2d(64, 64, kernel_size=(3, 3), stride=(1, 1), padding=(1, 1), bias=False)\n",
              "      (bn2): BatchNorm2d(64, eps=1e-05, momentum=0.1, affine=True, track_running_stats=True)\n",
              "      (shortcut): Sequential()\n",
              "    )\n",
              "    (1): BasicBlock(\n",
              "      (conv1): Conv2d(64, 64, kernel_size=(3, 3), stride=(1, 1), padding=(1, 1), bias=False)\n",
              "      (bn1): BatchNorm2d(64, eps=1e-05, momentum=0.1, affine=True, track_running_stats=True)\n",
              "      (conv2): Conv2d(64, 64, kernel_size=(3, 3), stride=(1, 1), padding=(1, 1), bias=False)\n",
              "      (bn2): BatchNorm2d(64, eps=1e-05, momentum=0.1, affine=True, track_running_stats=True)\n",
              "      (shortcut): Sequential()\n",
              "    )\n",
              "    (2): BasicBlock(\n",
              "      (conv1): Conv2d(64, 64, kernel_size=(3, 3), stride=(1, 1), padding=(1, 1), bias=False)\n",
              "      (bn1): BatchNorm2d(64, eps=1e-05, momentum=0.1, affine=True, track_running_stats=True)\n",
              "      (conv2): Conv2d(64, 64, kernel_size=(3, 3), stride=(1, 1), padding=(1, 1), bias=False)\n",
              "      (bn2): BatchNorm2d(64, eps=1e-05, momentum=0.1, affine=True, track_running_stats=True)\n",
              "      (shortcut): Sequential()\n",
              "    )\n",
              "    (3): BasicBlock(\n",
              "      (conv1): Conv2d(64, 64, kernel_size=(3, 3), stride=(1, 1), padding=(1, 1), bias=False)\n",
              "      (bn1): BatchNorm2d(64, eps=1e-05, momentum=0.1, affine=True, track_running_stats=True)\n",
              "      (conv2): Conv2d(64, 64, kernel_size=(3, 3), stride=(1, 1), padding=(1, 1), bias=False)\n",
              "      (bn2): BatchNorm2d(64, eps=1e-05, momentum=0.1, affine=True, track_running_stats=True)\n",
              "      (shortcut): Sequential()\n",
              "    )\n",
              "  )\n",
              "  (layer2): Sequential(\n",
              "    (0): BasicBlock(\n",
              "      (conv1): Conv2d(64, 128, kernel_size=(3, 3), stride=(2, 2), padding=(1, 1), bias=False)\n",
              "      (bn1): BatchNorm2d(128, eps=1e-05, momentum=0.1, affine=True, track_running_stats=True)\n",
              "      (conv2): Conv2d(128, 128, kernel_size=(3, 3), stride=(1, 1), padding=(1, 1), bias=False)\n",
              "      (bn2): BatchNorm2d(128, eps=1e-05, momentum=0.1, affine=True, track_running_stats=True)\n",
              "      (shortcut): Sequential(\n",
              "        (0): Conv2d(64, 128, kernel_size=(1, 1), stride=(2, 2), bias=False)\n",
              "        (1): BatchNorm2d(128, eps=1e-05, momentum=0.1, affine=True, track_running_stats=True)\n",
              "      )\n",
              "    )\n",
              "    (1): BasicBlock(\n",
              "      (conv1): Conv2d(128, 128, kernel_size=(3, 3), stride=(1, 1), padding=(1, 1), bias=False)\n",
              "      (bn1): BatchNorm2d(128, eps=1e-05, momentum=0.1, affine=True, track_running_stats=True)\n",
              "      (conv2): Conv2d(128, 128, kernel_size=(3, 3), stride=(1, 1), padding=(1, 1), bias=False)\n",
              "      (bn2): BatchNorm2d(128, eps=1e-05, momentum=0.1, affine=True, track_running_stats=True)\n",
              "      (shortcut): Sequential()\n",
              "    )\n",
              "    (2): BasicBlock(\n",
              "      (conv1): Conv2d(128, 128, kernel_size=(3, 3), stride=(1, 1), padding=(1, 1), bias=False)\n",
              "      (bn1): BatchNorm2d(128, eps=1e-05, momentum=0.1, affine=True, track_running_stats=True)\n",
              "      (conv2): Conv2d(128, 128, kernel_size=(3, 3), stride=(1, 1), padding=(1, 1), bias=False)\n",
              "      (bn2): BatchNorm2d(128, eps=1e-05, momentum=0.1, affine=True, track_running_stats=True)\n",
              "      (shortcut): Sequential()\n",
              "    )\n",
              "    (3): BasicBlock(\n",
              "      (conv1): Conv2d(128, 128, kernel_size=(3, 3), stride=(1, 1), padding=(1, 1), bias=False)\n",
              "      (bn1): BatchNorm2d(128, eps=1e-05, momentum=0.1, affine=True, track_running_stats=True)\n",
              "      (conv2): Conv2d(128, 128, kernel_size=(3, 3), stride=(1, 1), padding=(1, 1), bias=False)\n",
              "      (bn2): BatchNorm2d(128, eps=1e-05, momentum=0.1, affine=True, track_running_stats=True)\n",
              "      (shortcut): Sequential()\n",
              "    )\n",
              "  )\n",
              "  (layer3): Sequential(\n",
              "    (0): BasicBlock(\n",
              "      (conv1): Conv2d(128, 256, kernel_size=(3, 3), stride=(2, 2), padding=(1, 1), bias=False)\n",
              "      (bn1): BatchNorm2d(256, eps=1e-05, momentum=0.1, affine=True, track_running_stats=True)\n",
              "      (conv2): Conv2d(256, 256, kernel_size=(3, 3), stride=(1, 1), padding=(1, 1), bias=False)\n",
              "      (bn2): BatchNorm2d(256, eps=1e-05, momentum=0.1, affine=True, track_running_stats=True)\n",
              "      (shortcut): Sequential(\n",
              "        (0): Conv2d(128, 256, kernel_size=(1, 1), stride=(2, 2), bias=False)\n",
              "        (1): BatchNorm2d(256, eps=1e-05, momentum=0.1, affine=True, track_running_stats=True)\n",
              "      )\n",
              "    )\n",
              "    (1): BasicBlock(\n",
              "      (conv1): Conv2d(256, 256, kernel_size=(3, 3), stride=(1, 1), padding=(1, 1), bias=False)\n",
              "      (bn1): BatchNorm2d(256, eps=1e-05, momentum=0.1, affine=True, track_running_stats=True)\n",
              "      (conv2): Conv2d(256, 256, kernel_size=(3, 3), stride=(1, 1), padding=(1, 1), bias=False)\n",
              "      (bn2): BatchNorm2d(256, eps=1e-05, momentum=0.1, affine=True, track_running_stats=True)\n",
              "      (shortcut): Sequential()\n",
              "    )\n",
              "    (2): BasicBlock(\n",
              "      (conv1): Conv2d(256, 256, kernel_size=(3, 3), stride=(1, 1), padding=(1, 1), bias=False)\n",
              "      (bn1): BatchNorm2d(256, eps=1e-05, momentum=0.1, affine=True, track_running_stats=True)\n",
              "      (conv2): Conv2d(256, 256, kernel_size=(3, 3), stride=(1, 1), padding=(1, 1), bias=False)\n",
              "      (bn2): BatchNorm2d(256, eps=1e-05, momentum=0.1, affine=True, track_running_stats=True)\n",
              "      (shortcut): Sequential()\n",
              "    )\n",
              "  )\n",
              "  (linear): Linear(in_features=256, out_features=10, bias=True)\n",
              ")"
            ]
          },
          "metadata": {},
          "execution_count": 12
        }
      ]
    },
    {
      "cell_type": "code",
      "source": [
        "print(summary(model, (3, 32, 32)))"
      ],
      "metadata": {
        "colab": {
          "base_uri": "https://localhost:8080/"
        },
        "id": "aKbHYpvBeOWy",
        "outputId": "c67b5532-46dc-4629-be44-9d118391efc9"
      },
      "execution_count": null,
      "outputs": [
        {
          "output_type": "stream",
          "name": "stdout",
          "text": [
            "----------------------------------------------------------------\n",
            "        Layer (type)               Output Shape         Param #\n",
            "================================================================\n",
            "            Conv2d-1           [-1, 64, 32, 32]           1,728\n",
            "       BatchNorm2d-2           [-1, 64, 32, 32]             128\n",
            "            Conv2d-3           [-1, 64, 32, 32]          36,864\n",
            "       BatchNorm2d-4           [-1, 64, 32, 32]             128\n",
            "            Conv2d-5           [-1, 64, 32, 32]          36,864\n",
            "       BatchNorm2d-6           [-1, 64, 32, 32]             128\n",
            "        BasicBlock-7           [-1, 64, 32, 32]               0\n",
            "            Conv2d-8           [-1, 64, 32, 32]          36,864\n",
            "       BatchNorm2d-9           [-1, 64, 32, 32]             128\n",
            "           Conv2d-10           [-1, 64, 32, 32]          36,864\n",
            "      BatchNorm2d-11           [-1, 64, 32, 32]             128\n",
            "       BasicBlock-12           [-1, 64, 32, 32]               0\n",
            "           Conv2d-13           [-1, 64, 32, 32]          36,864\n",
            "      BatchNorm2d-14           [-1, 64, 32, 32]             128\n",
            "           Conv2d-15           [-1, 64, 32, 32]          36,864\n",
            "      BatchNorm2d-16           [-1, 64, 32, 32]             128\n",
            "       BasicBlock-17           [-1, 64, 32, 32]               0\n",
            "           Conv2d-18           [-1, 64, 32, 32]          36,864\n",
            "      BatchNorm2d-19           [-1, 64, 32, 32]             128\n",
            "           Conv2d-20           [-1, 64, 32, 32]          36,864\n",
            "      BatchNorm2d-21           [-1, 64, 32, 32]             128\n",
            "       BasicBlock-22           [-1, 64, 32, 32]               0\n",
            "           Conv2d-23          [-1, 128, 16, 16]          73,728\n",
            "      BatchNorm2d-24          [-1, 128, 16, 16]             256\n",
            "           Conv2d-25          [-1, 128, 16, 16]         147,456\n",
            "      BatchNorm2d-26          [-1, 128, 16, 16]             256\n",
            "           Conv2d-27          [-1, 128, 16, 16]           8,192\n",
            "      BatchNorm2d-28          [-1, 128, 16, 16]             256\n",
            "       BasicBlock-29          [-1, 128, 16, 16]               0\n",
            "           Conv2d-30          [-1, 128, 16, 16]         147,456\n",
            "      BatchNorm2d-31          [-1, 128, 16, 16]             256\n",
            "           Conv2d-32          [-1, 128, 16, 16]         147,456\n",
            "      BatchNorm2d-33          [-1, 128, 16, 16]             256\n",
            "       BasicBlock-34          [-1, 128, 16, 16]               0\n",
            "           Conv2d-35          [-1, 128, 16, 16]         147,456\n",
            "      BatchNorm2d-36          [-1, 128, 16, 16]             256\n",
            "           Conv2d-37          [-1, 128, 16, 16]         147,456\n",
            "      BatchNorm2d-38          [-1, 128, 16, 16]             256\n",
            "       BasicBlock-39          [-1, 128, 16, 16]               0\n",
            "           Conv2d-40          [-1, 128, 16, 16]         147,456\n",
            "      BatchNorm2d-41          [-1, 128, 16, 16]             256\n",
            "           Conv2d-42          [-1, 128, 16, 16]         147,456\n",
            "      BatchNorm2d-43          [-1, 128, 16, 16]             256\n",
            "       BasicBlock-44          [-1, 128, 16, 16]               0\n",
            "           Conv2d-45            [-1, 256, 8, 8]         294,912\n",
            "      BatchNorm2d-46            [-1, 256, 8, 8]             512\n",
            "           Conv2d-47            [-1, 256, 8, 8]         589,824\n",
            "      BatchNorm2d-48            [-1, 256, 8, 8]             512\n",
            "           Conv2d-49            [-1, 256, 8, 8]          32,768\n",
            "      BatchNorm2d-50            [-1, 256, 8, 8]             512\n",
            "       BasicBlock-51            [-1, 256, 8, 8]               0\n",
            "           Conv2d-52            [-1, 256, 8, 8]         589,824\n",
            "      BatchNorm2d-53            [-1, 256, 8, 8]             512\n",
            "           Conv2d-54            [-1, 256, 8, 8]         589,824\n",
            "      BatchNorm2d-55            [-1, 256, 8, 8]             512\n",
            "       BasicBlock-56            [-1, 256, 8, 8]               0\n",
            "           Conv2d-57            [-1, 256, 8, 8]         589,824\n",
            "      BatchNorm2d-58            [-1, 256, 8, 8]             512\n",
            "           Conv2d-59            [-1, 256, 8, 8]         589,824\n",
            "      BatchNorm2d-60            [-1, 256, 8, 8]             512\n",
            "       BasicBlock-61            [-1, 256, 8, 8]               0\n",
            "           Linear-62                   [-1, 10]           2,570\n",
            "================================================================\n",
            "Total params: 4,697,162\n",
            "Trainable params: 4,697,162\n",
            "Non-trainable params: 0\n",
            "----------------------------------------------------------------\n",
            "Input size (MB): 0.01\n",
            "Forward/backward pass size (MB): 18.63\n",
            "Params size (MB): 17.92\n",
            "Estimated Total Size (MB): 36.56\n",
            "----------------------------------------------------------------\n",
            "None\n"
          ]
        }
      ]
    },
    {
      "cell_type": "code",
      "source": [
        "criterion = nn.CrossEntropyLoss()\n",
        "optimizer = optim.Adam(model.parameters(), lr=0.001, weight_decay=1e-4)\n",
        "scheduler = optim.lr_scheduler.ReduceLROnPlateau(optimizer, mode='min', factor=0.1, patience=5, verbose=True)"
      ],
      "metadata": {
        "id": "TDTV9oVV7T99",
        "colab": {
          "base_uri": "https://localhost:8080/"
        },
        "outputId": "f064f3fe-86f7-4126-b7a6-82d1289989cb"
      },
      "execution_count": null,
      "outputs": [
        {
          "output_type": "stream",
          "name": "stderr",
          "text": [
            "/usr/local/lib/python3.11/dist-packages/torch/optim/lr_scheduler.py:62: UserWarning: The verbose parameter is deprecated. Please use get_last_lr() to access the learning rate.\n",
            "  warnings.warn(\n"
          ]
        }
      ]
    },
    {
      "cell_type": "code",
      "source": [
        "train_model(model, criterion, optimizer, scheduler, num_epochs=75)\n",
        "torch.save(model.state_dict(), 'best_model.pth')\n",
        "print('Model saved successfully!')"
      ],
      "metadata": {
        "colab": {
          "base_uri": "https://localhost:8080/",
          "height": 1000
        },
        "id": "10Kmf1qmeRnC",
        "outputId": "a0ef0fb6-4d87-495c-f874-534aec6c3837"
      },
      "execution_count": null,
      "outputs": [
        {
          "output_type": "stream",
          "name": "stdout",
          "text": [
            "Epoch [1/75], Train Loss: 1.7017, Train Acc: 0.3663, Test Loss: 1.6462, Test Acc: 0.4165\n",
            "Epoch [2/75], Train Loss: 1.3045, Train Acc: 0.5284, Test Loss: 1.2194, Test Acc: 0.5591\n",
            "Epoch [3/75], Train Loss: 1.1131, Train Acc: 0.6015, Test Loss: 1.0961, Test Acc: 0.6206\n",
            "Epoch [4/75], Train Loss: 0.9899, Train Acc: 0.6506, Test Loss: 1.4326, Test Acc: 0.5849\n",
            "Epoch [5/75], Train Loss: 0.8840, Train Acc: 0.6899, Test Loss: 0.9920, Test Acc: 0.6885\n",
            "Epoch [6/75], Train Loss: 0.8011, Train Acc: 0.7183, Test Loss: 1.0381, Test Acc: 0.6838\n",
            "Epoch [7/75], Train Loss: 0.7484, Train Acc: 0.7391, Test Loss: 0.9165, Test Acc: 0.7164\n",
            "Epoch [8/75], Train Loss: 0.6975, Train Acc: 0.7565, Test Loss: 0.6394, Test Acc: 0.7852\n",
            "Epoch [9/75], Train Loss: 0.6562, Train Acc: 0.7729, Test Loss: 0.7843, Test Acc: 0.7497\n",
            "Epoch [10/75], Train Loss: 0.6224, Train Acc: 0.7824, Test Loss: 0.5331, Test Acc: 0.8146\n",
            "Epoch [11/75], Train Loss: 0.5959, Train Acc: 0.7938, Test Loss: 0.6056, Test Acc: 0.8043\n",
            "Epoch [12/75], Train Loss: 0.5734, Train Acc: 0.8004, Test Loss: 0.6642, Test Acc: 0.7875\n",
            "Epoch [13/75], Train Loss: 0.5401, Train Acc: 0.8120, Test Loss: 0.5043, Test Acc: 0.8315\n",
            "Epoch [14/75], Train Loss: 0.5334, Train Acc: 0.8139, Test Loss: 0.4749, Test Acc: 0.8423\n",
            "Epoch [15/75], Train Loss: 0.5125, Train Acc: 0.8218, Test Loss: 0.4750, Test Acc: 0.8421\n",
            "Epoch [16/75], Train Loss: 0.4931, Train Acc: 0.8310, Test Loss: 0.4422, Test Acc: 0.8516\n",
            "Epoch [17/75], Train Loss: 0.4838, Train Acc: 0.8320, Test Loss: 0.4177, Test Acc: 0.8624\n",
            "Epoch [18/75], Train Loss: 0.4707, Train Acc: 0.8370, Test Loss: 0.4318, Test Acc: 0.8571\n",
            "Epoch [19/75], Train Loss: 0.4603, Train Acc: 0.8394, Test Loss: 0.4345, Test Acc: 0.8537\n",
            "Epoch [20/75], Train Loss: 0.4406, Train Acc: 0.8479, Test Loss: 0.4089, Test Acc: 0.8654\n",
            "Epoch [21/75], Train Loss: 0.4367, Train Acc: 0.8477, Test Loss: 0.4886, Test Acc: 0.8365\n",
            "Epoch [22/75], Train Loss: 0.4279, Train Acc: 0.8530, Test Loss: 0.4086, Test Acc: 0.8644\n",
            "Epoch [23/75], Train Loss: 0.4179, Train Acc: 0.8550, Test Loss: 0.4550, Test Acc: 0.8567\n",
            "Epoch [24/75], Train Loss: 0.4050, Train Acc: 0.8587, Test Loss: 0.3747, Test Acc: 0.8742\n",
            "Epoch [25/75], Train Loss: 0.3990, Train Acc: 0.8632, Test Loss: 0.4146, Test Acc: 0.8637\n",
            "Epoch [26/75], Train Loss: 0.3887, Train Acc: 0.8654, Test Loss: 0.3910, Test Acc: 0.8725\n",
            "Epoch [27/75], Train Loss: 0.3921, Train Acc: 0.8651, Test Loss: 0.3436, Test Acc: 0.8838\n",
            "Epoch [28/75], Train Loss: 0.3814, Train Acc: 0.8678, Test Loss: 0.4699, Test Acc: 0.8531\n",
            "Epoch [29/75], Train Loss: 0.3718, Train Acc: 0.8707, Test Loss: 0.3540, Test Acc: 0.8867\n",
            "Epoch [30/75], Train Loss: 0.3671, Train Acc: 0.8725, Test Loss: 0.3558, Test Acc: 0.8822\n",
            "Epoch [31/75], Train Loss: 0.3606, Train Acc: 0.8743, Test Loss: 0.3413, Test Acc: 0.8897\n",
            "Epoch [32/75], Train Loss: 0.3563, Train Acc: 0.8761, Test Loss: 0.3431, Test Acc: 0.8896\n",
            "Epoch [33/75], Train Loss: 0.3520, Train Acc: 0.8780, Test Loss: 0.3960, Test Acc: 0.8799\n",
            "Epoch [34/75], Train Loss: 0.3460, Train Acc: 0.8812, Test Loss: 0.3354, Test Acc: 0.8857\n",
            "Epoch [35/75], Train Loss: 0.3461, Train Acc: 0.8784, Test Loss: 0.3554, Test Acc: 0.8810\n",
            "Epoch [36/75], Train Loss: 0.3381, Train Acc: 0.8812, Test Loss: 0.4405, Test Acc: 0.8631\n",
            "Epoch [37/75], Train Loss: 0.3411, Train Acc: 0.8819, Test Loss: 0.3272, Test Acc: 0.8948\n",
            "Epoch [38/75], Train Loss: 0.3391, Train Acc: 0.8820, Test Loss: 0.3569, Test Acc: 0.8830\n",
            "Epoch [39/75], Train Loss: 0.3255, Train Acc: 0.8873, Test Loss: 0.3649, Test Acc: 0.8898\n",
            "Epoch [40/75], Train Loss: 0.3226, Train Acc: 0.8887, Test Loss: 0.3276, Test Acc: 0.8934\n",
            "Epoch [41/75], Train Loss: 0.3232, Train Acc: 0.8871, Test Loss: 0.3359, Test Acc: 0.8936\n",
            "Epoch [42/75], Train Loss: 0.3167, Train Acc: 0.8895, Test Loss: 0.3420, Test Acc: 0.8938\n",
            "Epoch [43/75], Train Loss: 0.3163, Train Acc: 0.8897, Test Loss: 0.3791, Test Acc: 0.8755\n",
            "Epoch [44/75], Train Loss: 0.2331, Train Acc: 0.9198, Test Loss: 0.2326, Test Acc: 0.9226\n",
            "Epoch [45/75], Train Loss: 0.2034, Train Acc: 0.9304, Test Loss: 0.2369, Test Acc: 0.9205\n",
            "Epoch [46/75], Train Loss: 0.1906, Train Acc: 0.9334, Test Loss: 0.2366, Test Acc: 0.9238\n",
            "Epoch [47/75], Train Loss: 0.1804, Train Acc: 0.9368, Test Loss: 0.2349, Test Acc: 0.9257\n",
            "Epoch [48/75], Train Loss: 0.1763, Train Acc: 0.9387, Test Loss: 0.2326, Test Acc: 0.9285\n",
            "Epoch [49/75], Train Loss: 0.1692, Train Acc: 0.9406, Test Loss: 0.2317, Test Acc: 0.9273\n",
            "Epoch [50/75], Train Loss: 0.1650, Train Acc: 0.9423, Test Loss: 0.2305, Test Acc: 0.9264\n",
            "Epoch [51/75], Train Loss: 0.1596, Train Acc: 0.9451, Test Loss: 0.2304, Test Acc: 0.9281\n",
            "Epoch [52/75], Train Loss: 0.1555, Train Acc: 0.9457, Test Loss: 0.2351, Test Acc: 0.9272\n",
            "Epoch [53/75], Train Loss: 0.1559, Train Acc: 0.9457, Test Loss: 0.2311, Test Acc: 0.9286\n",
            "Epoch [54/75], Train Loss: 0.1481, Train Acc: 0.9483, Test Loss: 0.2363, Test Acc: 0.9278\n",
            "Epoch [55/75], Train Loss: 0.1478, Train Acc: 0.9487, Test Loss: 0.2318, Test Acc: 0.9295\n",
            "Epoch [56/75], Train Loss: 0.1418, Train Acc: 0.9500, Test Loss: 0.2342, Test Acc: 0.9312\n",
            "Epoch [57/75], Train Loss: 0.1413, Train Acc: 0.9499, Test Loss: 0.2354, Test Acc: 0.9300\n",
            "Epoch [58/75], Train Loss: 0.1350, Train Acc: 0.9531, Test Loss: 0.2317, Test Acc: 0.9317\n",
            "Epoch [59/75], Train Loss: 0.1289, Train Acc: 0.9554, Test Loss: 0.2296, Test Acc: 0.9323\n",
            "Epoch [60/75], Train Loss: 0.1294, Train Acc: 0.9542, Test Loss: 0.2294, Test Acc: 0.9331\n",
            "Epoch [61/75], Train Loss: 0.1251, Train Acc: 0.9562, Test Loss: 0.2264, Test Acc: 0.9324\n",
            "Epoch [62/75], Train Loss: 0.1269, Train Acc: 0.9562, Test Loss: 0.2278, Test Acc: 0.9325\n",
            "Epoch [63/75], Train Loss: 0.1238, Train Acc: 0.9561, Test Loss: 0.2279, Test Acc: 0.9314\n",
            "Epoch [64/75], Train Loss: 0.1228, Train Acc: 0.9575, Test Loss: 0.2290, Test Acc: 0.9322\n",
            "Epoch [65/75], Train Loss: 0.1259, Train Acc: 0.9556, Test Loss: 0.2294, Test Acc: 0.9313\n",
            "Epoch [66/75], Train Loss: 0.1231, Train Acc: 0.9569, Test Loss: 0.2280, Test Acc: 0.9319\n",
            "Epoch [67/75], Train Loss: 0.1225, Train Acc: 0.9577, Test Loss: 0.2291, Test Acc: 0.9317\n",
            "Epoch [68/75], Train Loss: 0.1216, Train Acc: 0.9578, Test Loss: 0.2276, Test Acc: 0.9322\n",
            "Epoch [69/75], Train Loss: 0.1199, Train Acc: 0.9577, Test Loss: 0.2302, Test Acc: 0.9313\n",
            "Epoch [70/75], Train Loss: 0.1207, Train Acc: 0.9577, Test Loss: 0.2281, Test Acc: 0.9321\n",
            "Epoch [71/75], Train Loss: 0.1236, Train Acc: 0.9564, Test Loss: 0.2290, Test Acc: 0.9328\n",
            "Epoch [72/75], Train Loss: 0.1206, Train Acc: 0.9580, Test Loss: 0.2292, Test Acc: 0.9319\n",
            "Epoch [73/75], Train Loss: 0.1223, Train Acc: 0.9567, Test Loss: 0.2290, Test Acc: 0.9321\n",
            "Epoch [74/75], Train Loss: 0.1204, Train Acc: 0.9583, Test Loss: 0.2280, Test Acc: 0.9326\n",
            "Epoch [75/75], Train Loss: 0.1206, Train Acc: 0.9580, Test Loss: 0.2287, Test Acc: 0.9320\n"
          ]
        },
        {
          "output_type": "display_data",
          "data": {
            "text/plain": [
              "<Figure size 1000x500 with 1 Axes>"
            ],
            "image/png": "[encoded data removed]"
          },
          "metadata": {}
        },
        {
          "output_type": "display_data",
          "data": {
            "text/plain": [
              "<Figure size 1000x500 with 1 Axes>"
            ],
            "image/png": "[encoded data removed]"
          },
          "metadata": {}
        },
        {
          "output_type": "stream",
          "name": "stdout",
          "text": [
            "Final Test Accuracy: 0.9320\n",
            "Model saved successfully!\n"
          ]
        }
      ]
    },
    {
      "cell_type": "code",
      "source": [
        "def evaluate_model(model, dataloader):\n",
        "    model.eval()\n",
        "    correct = 0\n",
        "    total = 0\n",
        "    with torch.no_grad():\n",
        "        for data in dataloader:\n",
        "            inputs, labels = data[0].to(device), data[1].to(device)\n",
        "            outputs = model(inputs)\n",
        "            _, predicted = torch.max(outputs, 1)\n",
        "            total += labels.size(0)\n",
        "            correct += (predicted == labels).sum().item()\n",
        "    accuracy = correct / total\n",
        "    print(f'Accuracy on the dataset: {100 * accuracy:.2f}%')\n",
        "\n",
        "evaluate_model(model, testloader)"
      ],
      "metadata": {
        "colab": {
          "base_uri": "https://localhost:8080/"
        },
        "id": "tVxz8ySugCKh",
        "outputId": "b8e25d8c-df18-4445-adc5-45efb73e07b5"
      },
      "execution_count": null,
      "outputs": [
        {
          "output_type": "stream",
          "name": "stdout",
          "text": [
            "Accuracy on the dataset: 93.20%\n"
          ]
        }
      ]
    },
    {
      "cell_type": "code",
      "source": [
        "import torch\n",
        "from torch.utils.data import DataLoader, TensorDataset\n",
        "import pandas as pd\n",
        "import pickle\n",
        "from torchvision import transforms\n",
        "\n",
        "transform = transforms.Compose([\n",
        "    transforms.ToTensor(),\n",
        "    transforms.Normalize((0.4914, 0.4822, 0.4465), (0.2023, 0.1994, 0.2010))\n",
        "])\n",
        "\n",
        "with open(\"/content/cifar_test_nolabel.pkl\", \"rb\") as f:\n",
        "    test_data = pickle.load(f)\n",
        "image_ids = test_data[b'ids']\n",
        "images = test_data[b'data']\n",
        "\n",
        "\n",
        "images = torch.stack([transform(image) for image in images])\n",
        "\n",
        "\n",
        "batch_size = 128\n",
        "dataset = TensorDataset(images)\n",
        "data_loader = DataLoader(dataset, batch_size=batch_size, shuffle=False)\n",
        "\n",
        "device = torch.device(\"cuda\" if torch.cuda.is_available() else \"cpu\")\n",
        "\n",
        "model = ModifiedResNet(BasicBlock, [4,4,3])\n",
        "model.load_state_dict(torch.load(\"best_model.pth\", map_location=device))\n",
        "model.to(device)\n",
        "model.eval()\n",
        "\n",
        "all_predictions = []\n",
        "with torch.no_grad():\n",
        "    for images_batch in data_loader:\n",
        "        images_batch = images_batch[0].to(device)\n",
        "        outputs = model(images_batch)\n",
        "        _, predicted_labels = torch.max(outputs, 1)\n",
        "        all_predictions.extend(predicted_labels.cpu().numpy())\n",
        "\n",
        "df = pd.DataFrame({\"ID\": image_ids, \"Labels\": all_predictions})\n",
        "df.to_csv(\"predictions.csv\", index=False)\n",
        "\n",
        "print(\"Predictions saved to predictions.csv\")\n"
      ],
      "metadata": {
        "colab": {
          "base_uri": "https://localhost:8080/"
        },
        "id": "Lx_Fp0fDqvgH",
        "outputId": "cef83c87-da30-487f-e6e3-cd61dca06fa9"
      },
      "execution_count": 19,
      "outputs": [
        {
          "output_type": "stream",
          "name": "stderr",
          "text": [
            "<ipython-input-19-3935c750fd1f>:28: FutureWarning: You are using `torch.load` with `weights_only=False` (the current default value), which uses the default pickle module implicitly. It is possible to construct malicious pickle data which will execute arbitrary code during unpickling (See https://github.com/pytorch/pytorch/blob/main/SECURITY.md#untrusted-models for more details). In a future release, the default value for `weights_only` will be flipped to `True`. This limits the functions that could be executed during unpickling. Arbitrary objects will no longer be allowed to be loaded via this mode unless they are explicitly allowlisted by the user via `torch.serialization.add_safe_globals`. We recommend you start setting `weights_only=True` for any use case where you don't have full control of the loaded file. Please open an issue on GitHub for any issues related to this experimental feature.\n",
            "  model.load_state_dict(torch.load(\"best_model.pth\", map_location=device))\n"
          ]
        },
        {
          "output_type": "stream",
          "name": "stdout",
          "text": [
            "Predictions saved to predictions.csv\n"
          ]
        }
      ]
    }
  ]
}